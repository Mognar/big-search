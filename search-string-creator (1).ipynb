{
 "cells": [
  {
   "cell_type": "code",
   "execution_count": 9,
   "metadata": {},
   "outputs": [],
   "source": [
    "#This bit imports the necessary code packages to run this program\n",
    "import json\n",
    "import requests"
   ]
  },
  {
   "cell_type": "code",
   "execution_count": 10,
   "metadata": {},
   "outputs": [
    {
     "name": "stdout",
     "output_type": "stream",
     "text": [
      "http://eldaddp.azurewebsites.net/terms.json?prefLabel=Mortgages\n",
      "{ \"format\" : \"linked-data-api\", \"version\" : \"0.2\", \"result\" : {\"_about\" : \"http://eldaddp.azurewebsites.net/terms.json?prefLabel=Mortgages\", \"definition\" : \"http://eldaddp.azurewebsites.net/meta/terms.json?prefLabel=Mortgages\", \"extendedMetadataVersion\" : \"http://eldaddp.azurewebsites.net/terms.json?prefLabel=Mortgages&_metadata=all\", \"first\" : \"http://eldaddp.azurewebsites.net/terms.json?_page=0&prefLabel=Mortgages\", \"hasPart\" : \"http://eldaddp.azurewebsites.net/terms.json?prefLabel=Mortgages\", \"isPartOf\" : \"http://eldaddp.azurewebsites.net/terms.json?prefLabel=Mortgages\", \"items\" : [{\"_about\" : \"http://data.parliament.uk/terms/92077\", \"attribute\" : [\"SIT\", \"TPG\"], \"broader\" : [{\"_about\" : \"http://data.parliament.uk/terms/91569\", \"prefLabel\" : {\"_value\" : \"Housing\"}\n",
      "      }\n",
      "      , {\"_about\" : \"http://data.parliament.uk/terms/91863\", \"prefLabel\" : {\"_value\" : \"Loans\"}\n",
      "      }\n",
      "      , {\"_about\" : \"http://data.parliament.uk/terms/92315\", \"prefLabel\" : {\"_value\" : \"Owner occupation\"}\n",
      "      }\n",
      "      ], \"class\" : \"SIT\", \"exactMatch\" : {\"_about\" : \"http://data.parliament.uk/terms/50128\", \"prefLabel\" : {\"_value\" : \"Home loans\"}\n",
      "      }\n",
      "      , \"isPreferred\" : {\"_value\" : \"true\", \"_datatype\" : \"boolean\"}\n",
      "      , \"narrower\" : {\"_about\" : \"http://data.parliament.uk/terms/92137\", \"prefLabel\" : {\"_value\" : \"Negative equity\"}\n",
      "      }\n",
      "      , \"prefLabel\" : {\"_value\" : \"Mortgages\"}\n",
      "      , \"related\" : [{\"_about\" : \"http://data.parliament.uk/terms/90393\", \"prefLabel\" : {\"_value\" : \"Building societies\"}\n",
      "      }\n",
      "      , {\"_about\" : \"http://data.parliament.uk/terms/92946\", \"prefLabel\" : {\"_value\" : \"Secured loans\"}\n",
      "      }\n",
      "      ]}\n",
      "    , {\"_about\" : \"http://data.parliament.uk/terms/95680\", \"attribute\" : \"Do not use for concept mapping\", \"broader\" : {\"_about\" : \"http://data.parliament.uk/terms/95603\", \"prefLabel\" : {\"_value\" : \"Financial services\"}\n",
      "      }\n",
      "      , \"class\" : \"TPG\", \"isPreferred\" : {\"_value\" : \"true\", \"_datatype\" : \"boolean\"}\n",
      "      , \"prefLabel\" : {\"_value\" : \"Mortgages\"}\n",
      "    }\n",
      "    ], \"itemsPerPage\" : 10, \"page\" : 0, \"startIndex\" : 1, \"totalResults\" : 2, \"type\" : [\"http://purl.org/linked-data/api/vocab#ListEndpoint\", \"http://purl.org/linked-data/api/vocab#Page\"]}\n",
      "}\n",
      "\n"
     ]
    }
   ],
   "source": [
    "#Replace \"Housing\" with whichever term you would like to search on. \n",
    "#Please make sure the term is in quotes\n",
    "vloop = \"Mortgages\"\n",
    "#This bit puts the term into a search on data.parliament.uk\n",
    "slug = \"http://eldaddp.azurewebsites.net/terms.json?prefLabel={}\".format(vloop)\n",
    "print(slug)\n",
    "r=requests.get(slug)\n",
    "#If this works, the following line should output the full text of the \n",
    "#data.parliament.uk page on your term of choice.\n",
    "print(r.text)"
   ]
  },
  {
   "cell_type": "code",
   "execution_count": 11,
   "metadata": {},
   "outputs": [],
   "source": [
    "#This part reads the json code of the term you searched for. \n",
    "j=json.loads(r.text)\n",
    "terminfo = j['result']['items'][0]['_about']\n",
    "termname = j['result']['items'][0]['prefLabel']['_value']"
   ]
  },
  {
   "cell_type": "code",
   "execution_count": 12,
   "metadata": {},
   "outputs": [
    {
     "name": "stdout",
     "output_type": "stream",
     "text": [
      "{'_about': 'http://data.parliament.uk/terms/92137', 'prefLabel': {'_value': 'Negative equity'}}\n"
     ]
    }
   ],
   "source": [
    "#This is the part that does the heavy lifting. \n",
    "#The code here finds the preferred name and ID number of each term under your\n",
    "#chosen term. \n",
    "#It then looks to see if the child terms of your chosen term have any children. \n",
    "#If it does, it pulls out the name and ID of that term too. \n",
    "#The term names are all printed below.\n",
    "#This is the part that does the heavy lifting. \n",
    "#The code here finds the preferred name and ID number of each term under your\n",
    "#chosen term. \n",
    "#It then looks to see if the child terms of your chosen term have any children. \n",
    "#If it does, it pulls out the name and ID of that term too. \n",
    "#The term names are all printed below.\n",
    "ids = []\n",
    "terms = []\n",
    "terms.append(termname)\n",
    "bing = terminfo.split(\"/\")[4]\n",
    "ids.append(bing)\n",
    "termjson = terminfo + '.json'\n",
    "tj = requests.get(termjson)\n",
    "j2 = json.loads(tj.text)\n",
    "j3 = j2['result']['primaryTopic']['narrower']\n",
    "print(j3)\n",
    "for i in j3:\n",
    "    try:\n",
    "        termbits = (i['prefLabel']['_value'])\n",
    "        terms.append(termbits)\n",
    "    except TypeError:\n",
    "        termbits = (j3['prefLabel']['_value'])\n",
    "        terms.append(termbits)\n",
    "    try:\n",
    "        jsnoos = i['_about']\n",
    "    except TypeError:\n",
    "        jsnoos = j3['_about']  \n",
    "    jbing = jsnoos.split(\"/\")[4]\n",
    "    ids.append(jbing)\n",
    "    try:\n",
    "        j4 = i['_about']\n",
    "    except TypeError:\n",
    "        j4 = j3['_about']\n",
    "    j5 = j4 + '.json'\n",
    "    j6 = requests.get(j5)\n",
    "    j7 = json.loads(j6.text)\n",
    "    try:\n",
    "        j8 = j7['result']['primaryTopic']['narrower']\n",
    "        for i in j8:\n",
    "            try:\n",
    "                termbits1 = (i['prefLabel']['_value'])\n",
    "                terms.append(termbits1)\n",
    "            except TypeError:\n",
    "                termbits1 = (j8['prefLabel']['_value'])\n",
    "                terms.append(termbits1)\n",
    "            try:\n",
    "                ksnoos = i['_about']\n",
    "            except TypeError:\n",
    "                ksnoos = j8['_about']  \n",
    "            kbing = ksnoos.split(\"/\")[4]\n",
    "            ids.append(kbing)\n",
    "            try:\n",
    "                k4 = i['_about']\n",
    "            except TypeError:\n",
    "                k4 = j8['_about']\n",
    "            k5 = k4 + '.json'\n",
    "            k6 = requests.get(k5)\n",
    "            k7 = json.loads(k6.text)\n",
    "            try:\n",
    "                k8 = k7['result']['primaryTopic']['narrower']\n",
    "                for i in k8:\n",
    "                    try:\n",
    "                        termbits2 = (i['prefLabel']['_value'])\n",
    "                        terms.append(termbits2)\n",
    "                    except TypeError:\n",
    "                        termbits2 = (k8['prefLabel']['_value'])\n",
    "                        terms.append(termbits2)\n",
    "                    try:\n",
    "                        lsnoos = i['_about']\n",
    "                    except TypeError:\n",
    "                        lsnoos = k8['_about']  \n",
    "                    lbing = lsnoos.split(\"/\")[4]\n",
    "                    ids.append(lbing)\n",
    "                    try:\n",
    "                        l4 = i['_about']\n",
    "                    except TypeError:\n",
    "                        l4 = k8['_about']\n",
    "                    l5 = l4 + '.json'\n",
    "                    l6 = requests.get(l5)\n",
    "                    l7 = json.loads(l6.text)\n",
    "                    try:\n",
    "                        l8 = l7['result']['primaryTopic']['narrower']\n",
    "                        for i in l8:\n",
    "                            termbits3 = (l8['prefLabel']['_value'])\n",
    "                            terms.append(termbits3)\n",
    "                    except: \"KeyError\"\n",
    "                    pass\n",
    "            except: \"KeyError\"\n",
    "            pass\n",
    "    except: \"KeyError\"\n",
    "    pass"
   ]
  },
  {
   "cell_type": "code",
   "execution_count": 13,
   "metadata": {},
   "outputs": [
    {
     "name": "stdout",
     "output_type": "stream",
     "text": [
      "['Mortgages', 'Negative equity', 'Negative equity']\n",
      "['Mortgages', 'Negative equity']\n",
      "subject_ses:(92077 OR 92137) session:17/19\n"
     ]
    }
   ],
   "source": [
    "#This part takes all of the IDs and puts them into a text string, with \"OR\" \n",
    "#in between each ID. This will output a text string that can be copied into \n",
    "#Parliamentary Search. \n",
    "#\n",
    "#You can change the paramters of the search below, or change them in Search.\n",
    "\n",
    "def remove_duplicates(values):\n",
    "    output = []\n",
    "    seen = set()\n",
    "    for value in values:\n",
    "        # If value has not been encountered yet,\n",
    "        # ... add it to both list and set.\n",
    "        if value not in seen:\n",
    "            output.append(value)\n",
    "            seen.add(value)\n",
    "    return output\n",
    "\n",
    "# Remove duplicates from this list.\n",
    "print(terms)\n",
    "result = remove_duplicates(ids)\n",
    "termlist = remove_duplicates(terms)\n",
    "print(termlist)\n",
    "stringy = ' OR '.join(result)\n",
    "print('subject_ses:('+stringy+\") session:17/19\")"
   ]
  },
  {
   "cell_type": "code",
   "execution_count": null,
   "metadata": {},
   "outputs": [],
   "source": []
  }
 ],
 "metadata": {
  "kernelspec": {
   "display_name": "Python 3",
   "language": "python",
   "name": "python3"
  },
  "language_info": {
   "codemirror_mode": {
    "name": "ipython",
    "version": 3
   },
   "file_extension": ".py",
   "mimetype": "text/x-python",
   "name": "python",
   "nbconvert_exporter": "python",
   "pygments_lexer": "ipython3",
   "version": "3.6.5"
  },
  "widgets": {
   "state": {},
   "version": "1.1.2"
  }
 },
 "nbformat": 4,
 "nbformat_minor": 1
}
